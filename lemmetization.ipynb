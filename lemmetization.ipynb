{
 "cells": [
  {
   "cell_type": "markdown",
   "metadata": {},
   "source": [
    "#### Wordnet Lemmatizer \n",
    "##### Lemmatization tecnique is like stemming. The output we will get after lemmatization is called 'lemma', which is a root word rather than root stem, the output of stemming. After lemmatization, we will be getting a valid word that means the same thing.\n",
    "\n",
    "##### NLTK provides WordNetLemmatizer class which is a thin wrapper around the wordnet corpus. This class uses morhpy() funciton to the WordNetCorpusReader class to find a lemma."
   ]
  },
  {
   "cell_type": "code",
   "execution_count": 1,
   "metadata": {},
   "outputs": [],
   "source": [
    "from nltk.stem import WordNetLemmatizer\n",
    "\n",
    "lemmatizer = WordNetLemmatizer()"
   ]
  },
  {
   "cell_type": "code",
   "execution_count": 3,
   "metadata": {},
   "outputs": [
    {
     "data": {
      "text/plain": [
       "\"\\nLemmatizer takes 2 parameters. One is the word to lammatize and the other is 'POS'. Several POS values are:\\nNoun - n\\nverb - v\\nadjective - a\\nadverb - r\\n\""
      ]
     },
     "execution_count": 3,
     "metadata": {},
     "output_type": "execute_result"
    }
   ],
   "source": [
    "'''\n",
    "Lemmatizer takes 2 parameters. One is the word to lammatize and the other is 'POS'. Several POS values are:\n",
    "Noun - n\n",
    "verb - v\n",
    "adjective - a\n",
    "adverb - r\n",
    "\n",
    "by default the value of POS is 'n' ie. noun\n",
    "'''"
   ]
  },
  {
   "cell_type": "code",
   "execution_count": 5,
   "metadata": {},
   "outputs": [
    {
     "data": {
      "text/plain": [
       "'going'"
      ]
     },
     "execution_count": 5,
     "metadata": {},
     "output_type": "execute_result"
    }
   ],
   "source": [
    "lemmatizer.lemmatize('going') # It is considering the word as a noun, thus not stemming the word as desired."
   ]
  },
  {
   "cell_type": "code",
   "execution_count": 7,
   "metadata": {},
   "outputs": [
    {
     "data": {
      "text/plain": [
       "'go'"
      ]
     },
     "execution_count": 7,
     "metadata": {},
     "output_type": "execute_result"
    }
   ],
   "source": [
    "lemmatizer.lemmatize('going',pos='v') # Now the word will be considered as a verb, thus generating correct output."
   ]
  },
  {
   "cell_type": "code",
   "execution_count": 8,
   "metadata": {},
   "outputs": [
    {
     "name": "stdout",
     "output_type": "stream",
     "text": [
      "eating ----> eating\n",
      "eaten ----> eaten\n",
      "eat ----> eat\n",
      "writing ----> writing\n",
      "writes ----> writes\n",
      "programming ----> programming\n",
      "programs ----> program\n",
      "finally ----> finally\n",
      "finalized ----> finalized\n",
      "history ----> history\n"
     ]
    }
   ],
   "source": [
    "words = [\"eating\", \"eaten\", \"eat\" , \"writing\", \"writes\", \"programming\", \"programs\", \"finally\",\"finalized\",\"history\"]\n",
    "for word in words :\n",
    "    print ( word+\" ----> \"+lemmatizer.lemmatize(word))"
   ]
  },
  {
   "cell_type": "markdown",
   "metadata": {},
   "source": [
    "###### We can see that lemmatization hasnt taken place in most of the words above. This is because it is treating all these words as nouns and nouns do not require any stemming."
   ]
  },
  {
   "cell_type": "code",
   "execution_count": 11,
   "metadata": {},
   "outputs": [
    {
     "name": "stdout",
     "output_type": "stream",
     "text": [
      "eating ----> eat\n",
      "eaten ----> eat\n",
      "eat ----> eat\n",
      "writing ----> write\n",
      "writes ----> write\n",
      "programming ----> program\n",
      "programs ----> program\n",
      "finally ----> finally\n",
      "finalized ----> finalize\n",
      "history ----> history\n"
     ]
    }
   ],
   "source": [
    "for word in words :\n",
    "    print ( word+\" ----> \"+lemmatizer.lemmatize(word,pos='v'))"
   ]
  }
 ],
 "metadata": {
  "kernelspec": {
   "display_name": "Python 3",
   "language": "python",
   "name": "python3"
  },
  "language_info": {
   "codemirror_mode": {
    "name": "ipython",
    "version": 3
   },
   "file_extension": ".py",
   "mimetype": "text/x-python",
   "name": "python",
   "nbconvert_exporter": "python",
   "pygments_lexer": "ipython3",
   "version": "3.12.2"
  }
 },
 "nbformat": 4,
 "nbformat_minor": 2
}
